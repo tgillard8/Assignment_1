{
 "cells": [
  {
   "cell_type": "code",
   "execution_count": 5,
   "id": "19412b69",
   "metadata": {},
   "outputs": [
    {
     "name": "stdout",
     "output_type": "stream",
     "text": [
      "Change: $63.43\n",
      "fifty dollar bills: 1\n",
      "ten dollar bills: 1\n",
      "dollar bills: 3\n",
      "quarters: 1\n",
      "dimes: 1\n",
      "nickels: 1\n",
      "pennys: 2\n",
      "a \n",
      "\n",
      "Change: $15.91\n",
      "ten dollar bills: 1\n",
      "five dollar bills: 1\n",
      "quarters: 3\n",
      "dimes: 1\n",
      "nickels: 1\n",
      "b \n",
      "\n",
      "Change: $6.19\n",
      "five dollar bills: 1\n",
      "dollar bills: 1\n",
      "dimes: 1\n",
      "nickels: 1\n",
      "pennys: 3\n",
      "c \n",
      "\n",
      "Change: $35.64\n",
      "twenty dollar bills: 1\n",
      "ten dollar bills: 1\n",
      "five dollar bills: 1\n",
      "quarters: 2\n",
      "dimes: 1\n",
      "pennys: 4\n",
      "d \n",
      "\n"
     ]
    }
   ],
   "source": [
    "def calculate_change(tendered, cost):\n",
    "    change = tendered - cost\n",
    "    print(f\"Change: ${change:.2f}\")\n",
    "\n",
    "    denominations = [\n",
    "        (100, \"one hundred dollar bill\"), (50, \"fifty dollar bill\"), (20, \"twenty dollar bill\"),\n",
    "        (10, \"ten dollar bill\"), (5, \"five dollar bill\"), (1, \"dollar bill\"),\n",
    "        (0.25, \"quarter\"), (0.10, \"dime\"), (0.05, \"nickel\"), (0.01, \"penny\")\n",
    "    ]\n",
    "\n",
    "    for value, unit in denominations:\n",
    "        num_units = int(change // value)\n",
    "        if num_units > 0:\n",
    "            print(f\"{unit}s: {num_units}\")\n",
    "            change %= value\n",
    "\n",
    "#Problems a,b,c,d\n",
    "calculate_change(100, 36.57)\n",
    "print(\"a \\n\")\n",
    "calculate_change(80, 64.09)\n",
    "print(\"b \\n\")\n",
    "calculate_change(10, 3.81)\n",
    "print(\"c \\n\")\n",
    "calculate_change(50, 14.36)\n",
    "print(\"d \\n\")\n"
   ]
  },
  {
   "cell_type": "code",
   "execution_count": 7,
   "id": "e99dd27a",
   "metadata": {},
   "outputs": [
    {
     "name": "stdout",
     "output_type": "stream",
     "text": [
      "a: 37.00°C\n",
      "b: 133.79°F\n",
      "c: 212.25K\n"
     ]
    }
   ],
   "source": [
    "def convert_temperature(value, from_scale, to_scale):\n",
    "    if from_scale == to_scale:\n",
    "        return value\n",
    "\n",
    "    if from_scale == 'Celsius':\n",
    "        if to_scale == 'Fahrenheit':\n",
    "            return (value * 9/5) + 32\n",
    "        elif to_scale == 'Kelvin':\n",
    "            return value + 273.15\n",
    "\n",
    "    elif from_scale == 'Fahrenheit':\n",
    "        if to_scale == 'Celsius':\n",
    "            return (value - 32) * 5/9\n",
    "        elif to_scale == 'Kelvin':\n",
    "            return (value - 32) * 5/9 + 273.15\n",
    "\n",
    "    elif from_scale == 'Kelvin':\n",
    "        if to_scale == 'Celsius':\n",
    "            return value - 273.15\n",
    "        elif to_scale == 'Fahrenheit':\n",
    "            return (value - 273.15) * 9/5 + 32\n",
    "\n",
    "#Problems a,b,c\n",
    "result1 = convert_temperature(98.6, 'Fahrenheit', 'Celsius')\n",
    "print(f\"a: {result1:.2f}°C\")\n",
    "\n",
    "result2 = convert_temperature(329.7, 'Kelvin', 'Fahrenheit')\n",
    "print(f\"b: {result2:.2f}°F\")\n",
    "\n",
    "result3 = convert_temperature(-60.9, 'Celsius', 'Kelvin')\n",
    "print(f\"c: {result3:.2f}K\")\n"
   ]
  },
  {
   "cell_type": "code",
   "execution_count": null,
   "id": "e73cc98f",
   "metadata": {},
   "outputs": [],
   "source": []
  }
 ],
 "metadata": {
  "kernelspec": {
   "display_name": "Python 3 (ipykernel)",
   "language": "python",
   "name": "python3"
  },
  "language_info": {
   "codemirror_mode": {
    "name": "ipython",
    "version": 3
   },
   "file_extension": ".py",
   "mimetype": "text/x-python",
   "name": "python",
   "nbconvert_exporter": "python",
   "pygments_lexer": "ipython3",
   "version": "3.11.5"
  }
 },
 "nbformat": 4,
 "nbformat_minor": 5
}
